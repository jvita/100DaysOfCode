{
 "cells": [
  {
   "cell_type": "code",
   "execution_count": 34,
   "metadata": {
    "collapsed": true
   },
   "outputs": [],
   "source": [
    "import time\n",
    "import itertools\n",
    "import requests\n",
    "\n",
    "from collections import Counter\n",
    "from bs4 import BeautifulSoup"
   ]
  },
  {
   "cell_type": "code",
   "execution_count": 44,
   "metadata": {
    "collapsed": true
   },
   "outputs": [],
   "source": [
    "def data_from_subreddit(url):\n",
    "    \n",
    "    # Headers make you look like a real web browser\n",
    "    example_headers = {'User-Agent':'Mozilla/5.0 (Windows NT 10.0; WOW64; rv:50.0) Gecko/20100101 Firefox/50.0'}\n",
    "    \n",
    "    # Sleep makes sure a website doesn't feel attacked \n",
    "    time.sleep(2)\n",
    "    \n",
    "    # requests.get acts like a web browser and asks websites for their html\n",
    "    r  = requests.get(url, headers=example_headers)\n",
    "    \n",
    "    # Make the result of the request text for BeautifulSoup \n",
    "    data = r.text\n",
    "    \n",
    "    # Make some soup. Use the 'lxml' parser\n",
    "#     soup = BeautifulSoup(data, \"html.parser\")\n",
    "    soup = BeautifulSoup(data, \"lxml\")\n",
    "\n",
    "    return soup"
   ]
  },
  {
   "cell_type": "code",
   "execution_count": 70,
   "metadata": {
    "collapsed": true
   },
   "outputs": [],
   "source": [
    "def last_post_id(soup_):\n",
    "    \n",
    "    return soup_.find('span', {'class':'next-button'}).find('a')['href']"
   ]
  },
  {
   "cell_type": "code",
   "execution_count": null,
   "metadata": {
    "collapsed": true
   },
   "outputs": [],
   "source": [
    "def get_counts(url)"
   ]
  },
  {
   "cell_type": "code",
   "execution_count": 110,
   "metadata": {
    "collapsed": true
   },
   "outputs": [],
   "source": [
    "def scrape_r_stockmarket(url, n):\n",
    "    \n",
    "    example_headers = {'User-Agent':'Mozilla/5.0 (Windows NT 10.0; WOW64; rv:50.0) Gecko/20100101 Firefox/50.0'}\n",
    "    time.sleep(2)\n",
    "\n",
    "    counts = Counter()\n",
    "    \n",
    "    next_url = url\n",
    "    for i in range(n):\n",
    "        print(next_url)\n",
    "        \n",
    "        r  = requests.get(next_url, headers=example_headers)\n",
    "\n",
    "        soup = BeautifulSoup(r.text, 'lxml')\n",
    "        \n",
    "        posts = soup.find_all('a', {'class' : 'title'})\n",
    "        titles = [el.text for el in posts]\n",
    "        split_titles = [el.split(' ') for el in titles]\n",
    "        \n",
    "        words = itertools.chain.from_iterable(split_titles)\n",
    "        counts += Counter(words)\n",
    "        next_url = last_post_id(soup)\n",
    "        \n",
    "    return counts"
   ]
  },
  {
   "cell_type": "code",
   "execution_count": 107,
   "metadata": {},
   "outputs": [
    {
     "name": "stdout",
     "output_type": "stream",
     "text": [
      "https://www.reddit.com/r/StockMarket/\n",
      "https://www.reddit.com/r/StockMarket/?count=25&after=t3_86hwfl\n",
      "https://www.reddit.com/r/StockMarket/?count=50&after=t3_85ui0c\n"
     ]
    }
   ],
   "source": [
    "url_stockmarket = \"https://www.reddit.com/r/StockMarket/\"\n",
    "\n",
    "histogram = word_count(url_stockmarket, 3)"
   ]
  },
  {
   "cell_type": "code",
   "execution_count": 109,
   "metadata": {},
   "outputs": [
    {
     "data": {
      "text/plain": [
       "<bound method Counter.most_common of Counter({'the': 18, 'to': 17, 'on': 14, 'a': 13, 'What': 9, 'for': 9, 'of': 8, 'and': 7, 'you': 6, 'I': 6, 'in': 6, 'stock': 5, 'buy': 5, 'up': 5, 'stocks': 5, 'Thoughts': 5, 'are': 5, 'when': 4, 'with': 4, '-': 4, 'about': 4, 'market': 4, 'today?': 3, 'Is': 3, 'Amazon': 3, 'your': 3, 'think': 3, 'will': 3, 'what': 3, 'it': 3, 'Stock': 3, 'How': 3, 'that': 3, 'hit': 3, 'or': 3, 'at': 3, 'it?': 2, 'can': 2, 'most': 2, 'investing': 2, 'even': 2, 'investment': 2, 'did': 2, 'Chart': 2, 'over': 2, 'The': 2, 'favorite': 2, 'as': 2, '2018': 2, 'TD': 2, '&': 2, 'just': 2, 'out': 2, 'all': 2, 'China': 2, 'reports': 2, 'today.': 2, 'Candlestick': 2, 'is': 2, 'Most': 2, 'new': 2, 'Movers': 2, 'high': 2, 'i': 2, 'Pre-Market': 2, 'long': 2, 'by': 2, 'price': 2, 'company': 2, 'Ameritrade': 2, 'possible': 2, 'News': 2, 'earnings': 2, 'rate': 2, 'Fed': 2, 'do': 2, 'more': 2, 'idea': 2, \"What's\": 2, 'Disney': 1, 'Apple': 1, 'money': 1, 'book': 1, 'opinions': 1, 'second': 1, 'bankrupt?': 1, 'wish': 1, 'Patterns': 1, 'who': 1, 'I’m': 1, 'sensitive': 1, 'Your': 1, 'folks': 1, 'increase': 1, 'MULE': 1, 'into?': 1, 'Tariffs': 1, 'market.': 1, 'trade?': 1, '$AMZN': 1, 'Things': 1, 'iphone?': 1, 'Wash': 1, 'analysis': 1, 'demand': 1, '$MU': 1, 'hold?': 1, 'here,': 1, '(Friday': 1, 'Buy,': 1, 'advantages': 1, 'Thursday': 1, 'Releases': 1, '1:': 1, 'GERN?': 1, 'Mine': 1, '$2,000': 1, 'report': 1, '3/23)': 1, 'close': 1, 'else': 1, 'introducing': 1, 'almost': 1, 'love': 1, 'find': 1, 'was': 1, 'Investor\"': 1, '26th,': 1, 'prices': 1, 'stocks?': 1, 'GE?': 1, \"'easily'\": 1, 'SHOP': 1, 'weak': 1, 'keeping': 1, 'past': 1, 'share': 1, 'anyone': 1, 'this': 1, 'become': 1, 'week': 1, 'wont': 1, 'Multi': 1, 'RSI': 1, 'due': 1, 'Disney.': 1, 'right': 1, 'website': 1, 'Indicator': 1, 'doing': 1, 'less': 1, 'NUGT': 1, 'Guru': 1, 'Effectively': 1, 'having': 1, 'Trustworthy': 1, 'looking': 1, 'likely': 1, 'Should': 1, 'Plans': 1, 'use': 1, 'Earnings': 1, 'me': 1, 'shares': 1, 'Networking': 1, 'using': 1, 'announces': 1, 'highs.': 1, '2012': 1, 'cheap': 1, 'Starboard': 1, 'Ice': 1, '$BYOC': 1, 'suggestions?': 1, 'Financial': 1, 'sharp': 1, 'take': 1, 'AMZN': 1, 'return': 1, 'Team': 1, 'year,': 1, 'bought': 1, '$700': 1, 'someone': 1, 'Fox': 1, 'resistances': 1, 'later?': 1, 'r/stockmarket!': 1, 'Just': 1, 'Icahn': 1, 'buying': 1, 'tomorrow?': 1, 'BDCs': 1, 'then': 1, 'term': 1, 'today,': 1, '1521': 1, 'seem': 1, 'good': 1, 'back': 1, 'taking': 1, 'battle': 1, 'Price': 1, 'Where': 1, 'make': 1, 'few': 1, \"I'm\": 1, 'expect': 1, 'Challenge': 1, 'down': 1, 'do?': 1, 'MAT': 1, 'huge': 1, 'my': 1, 'tried': 1, '$5': 1, 'exciting': 1, 'beginning': 1, 'guaranteed': 1, 'Granite': 1, 'TWTR?': 1, 'Goldman': 1, 'MVIS': 1, 'decision': 1, 'days': 1, 'Screen': 1, 'MULE,': 1, 'Plunge': 1, 'Learn': 1, 'Explained': 1, 'crash': 1, 'recently?': 1, 'proxy': 1, 'open;': 1, 'Warren': 1, 'platform': 1, 'other': 1, \"world's\": 1, 'Why': 1, 'off': 1, 'TSLA': 1, 'Are': 1, 'application': 1, 'Pushes': 1, 'website?': 1, 'Sell': 1, 'sold': 1, 'pull': 1, 'AMC': 1, 'could': 1, 'Market': 1, 'Comcast': 1, 'run': 1, 'sour': 1, 'best': 1, 'always': 1, \"Wednesday's\": 1, 'welcome': 1, 'dividend': 1, 'continued': 1, 'This': 1, 'an': 1, '5': 1, \"it's\": 1, 'b/c': 1, 'Salesforce': 1, '2': 1, 'invest.': 1, 'need': 1, 'overview': 1, '(BA)': 1, 'opinions?': 1, 'going': 1, 'robinhood?': 1, 'tariff': 1, 'Trump': 1, 'passed': 1, '\"The': 1, 'beta': 1, 'FB?': 1, 'Min': 1, 'why': 1, 'says': 1, 'drops': 1, 'facebook?': 1, 'Benjamin': 1, 'Sell,': 1, 'any': 1, 'To': 1, 'much': 1, 'one': 1, 'etf': 1, 'we': 1, 'Good': 1, 'chance?': 1, 'phone.': 1, 'takes': 1, 'log': 1, 'support': 1, 'also': 1, 'announcement': 1, 'ups': 1, 'briefly': 1, 'piece': 1, 'than': 1, 'written': 1, 'if/when': 1, \"BABA's\": 1, 'iPhone': 1, 'March': 1, 'shorted': 1, 'arrivals': 1, 'Hi.': 1, 'broker': 1, '5%': 1, '(3/21)': 1, 'Using': 1, 'Portfolio': 1, 'Can': 1, 'Growth': 1, 'thoughts': 1, 'IPO': 1, '17': 1, 'MU?': 1, 'U.S.': 1, 'interest': 1, 'Will': 1, 'Video:': 1, '(3/22)': 1, 'Effect': 1, '?': 1, 'randomly': 1, \"Q's\": 1, 'Sachs': 1, 'Alphabet': 1, 'patch': 1, 'Bullish': 1, 'Dropbox': 1, 'plan': 1, 'market?': 1, 'now': 1, 'NWL': 1, 'line,': 1, 'bad?': 1, 'r/StockMarket': 1, 'against': 1, 'video': 1, '$21': 1, \"Thursday's\": 1, 'miniscule': 1, 'Facebook': 1, 'drastic': 1, 'deal?': 1, 'made': 1, 'moment,': 1, 'lower': 1, 'Hold': 1, 'Smackdown!': 1, 'Investors': 1, 'EUR/USD': 1, 'Trust': 1, 'services': 1, 'closes': 1, 'PER.': 1, 'fairly': 1, 'portfolio': 1, 'Dow': 1, 'knew': 1, 'Live': 1, 'Have': 1, 'like': 1, 'Like': 1, 'from': 1, 'based': 1, 'go': 1, 'Imports': 1, 'hike': 1, 'valuable': 1, 'amid': 1, 'Potential': 1, 'restarting': 1, 'were': 1, 'business': 1, 'Markets': 1, 'beginner.': 1, 'Comments?': 1, 'opinion': 1, 'get': 1, 'Monday': 1, 'younger?': 1, 'some': 1, 'end': 1, 'allow': 1, 'major': 1, 'after': 1, 'candy': 1, 'markets': 1, 'Death': 1, '(NYSE:CHKR)': 1, 'booms': 1, 'so?': 1, 'turn': 1, '@': 1, 'four': 1, 'Buffet’s': 1, 'Nanotechnology': 1, 'Protection': 1, 'downward': 1, '$400': 1, '$3B': 1, 'though': 1, 'Reliable': 1, 'recover': 1, 'MCX:GMKN': 1, 'Boeing': 1, 'July,': 1, '$1,900': 1, 'kids.': 1, 'Anticipated': 1, '(leveraged)': 1, 'shorting': 1, 'X': 1, 'should': 1, 'app': 1, 'portfolios?': 1, 'Tech': 1, 'explain': 1, 'guy': 1, 'another': 1, \"Apple's\": 1, 'millionare': 1, 'Services': 1, 'stocks.': 1, 'Chesapeake': 1, 'competitors?': 1, 'blow': 1, 'Would': 1, 'Facebook:': 1, 'through': 1, 'they': 1, 'ago': 1, 'suggestions': 1, 'Day': 1, 'Facebook?': 1, 'basic': 1, 'Time': 1, 'prior': 1, 'melts': 1, 'online': 1, 'Comcast?': 1, 'positions?': 1, 'So': 1, 'reinstalling': 1, 'penny': 1, 'trading': 1, 'teens.': 1, 'issue': 1})>"
      ]
     },
     "execution_count": 109,
     "metadata": {},
     "output_type": "execute_result"
    }
   ],
   "source": [
    "histogram.most_common"
   ]
  },
  {
   "cell_type": "code",
   "execution_count": 50,
   "metadata": {},
   "outputs": [
    {
     "ename": "IndexError",
     "evalue": "list index out of range",
     "output_type": "error",
     "traceback": [
      "\u001b[0;31m---------------------------------------------------------------------------\u001b[0m",
      "\u001b[0;31mIndexError\u001b[0m                                Traceback (most recent call last)",
      "\u001b[0;32m<ipython-input-50-f3a49e7e3e06>\u001b[0m in \u001b[0;36m<module>\u001b[0;34m()\u001b[0m\n\u001b[1;32m      1\u001b[0m \u001b[0msoup\u001b[0m \u001b[0;34m=\u001b[0m \u001b[0mdata_from_subreddit\u001b[0m\u001b[0;34m(\u001b[0m\u001b[0;34m\"https://www.reddit.com/r/StockMarket/\"\u001b[0m\u001b[0;34m)\u001b[0m\u001b[0;34m\u001b[0m\u001b[0m\n\u001b[0;32m----> 2\u001b[0;31m \u001b[0mlast_post_id\u001b[0m\u001b[0;34m(\u001b[0m\u001b[0msoup\u001b[0m\u001b[0;34m)\u001b[0m\u001b[0;34m\u001b[0m\u001b[0m\n\u001b[0m",
      "\u001b[0;32m<ipython-input-29-286cc8995ff0>\u001b[0m in \u001b[0;36mlast_post_id\u001b[0;34m(_soup)\u001b[0m\n\u001b[1;32m     24\u001b[0m     \u001b[0mpost_id\u001b[0m \u001b[0;34m=\u001b[0m \u001b[0m_soup\u001b[0m\u001b[0;34m.\u001b[0m\u001b[0mfind_all\u001b[0m\u001b[0;34m(\u001b[0m\u001b[0;34m'id'\u001b[0m\u001b[0;34m)\u001b[0m\u001b[0;34m\u001b[0m\u001b[0m\n\u001b[1;32m     25\u001b[0m \u001b[0;34m\u001b[0m\u001b[0m\n\u001b[0;32m---> 26\u001b[0;31m     \u001b[0;32mreturn\u001b[0m \u001b[0mstr\u001b[0m\u001b[0;34m(\u001b[0m\u001b[0mpost_id\u001b[0m\u001b[0;34m[\u001b[0m\u001b[0;34m-\u001b[0m\u001b[0;36m1\u001b[0m\u001b[0;34m]\u001b[0m\u001b[0;34m)\u001b[0m\u001b[0;34m[\u001b[0m\u001b[0;36m4\u001b[0m\u001b[0;34m:\u001b[0m\u001b[0;34m-\u001b[0m\u001b[0;36m5\u001b[0m\u001b[0;34m]\u001b[0m\u001b[0;34m\u001b[0m\u001b[0m\n\u001b[0m",
      "\u001b[0;31mIndexError\u001b[0m: list index out of range"
     ]
    }
   ],
   "source": [
    "soup = data_from_subreddit(\"https://www.reddit.com/r/StockMarket/\")"
   ]
  },
  {
   "cell_type": "code",
   "execution_count": 69,
   "metadata": {},
   "outputs": [
    {
     "data": {
      "text/plain": [
       "'https://www.reddit.com/r/StockMarket/?count=25&after=t3_86hwfl'"
      ]
     },
     "execution_count": 69,
     "metadata": {},
     "output_type": "execute_result"
    }
   ],
   "source": [
    "next_url = soup.find('span', {'class' : 'next-button'}).find('a')\n",
    "next_url['href']"
   ]
  },
  {
   "cell_type": "code",
   "execution_count": 71,
   "metadata": {},
   "outputs": [
    {
     "data": {
      "text/plain": [
       "'https://www.reddit.com/r/StockMarket/?count=25&after=t3_86hwfl'"
      ]
     },
     "execution_count": 71,
     "metadata": {},
     "output_type": "execute_result"
    }
   ],
   "source": [
    "last_post_id(soup)"
   ]
  },
  {
   "cell_type": "code",
   "execution_count": 8,
   "metadata": {
    "scrolled": false
   },
   "outputs": [],
   "source": [
    "with open('soup.txt', 'w') as f:\n",
    "    f.write(soup.prettify())"
   ]
  },
  {
   "cell_type": "code",
   "execution_count": 46,
   "metadata": {
    "scrolled": false
   },
   "outputs": [
    {
     "data": {
      "text/plain": [
       "<a class=\"title may-blank \" data-event-action=\"title\" data-href-url=\"/r/StockMarket/comments/7ecfab/to_all_the_new_arrivals_here_welcome_to/\" data-inbound-url=\"/r/StockMarket/comments/7ecfab/to_all_the_new_arrivals_here_welcome_to/?utm_content=title&amp;utm_medium=hot&amp;utm_source=reddit&amp;utm_name=StockMarket\" href=\"/r/StockMarket/comments/7ecfab/to_all_the_new_arrivals_here_welcome_to/\" rel=\"\" tabindex=\"1\">To all the new arrivals here, welcome to r/stockmarket!</a>"
      ]
     },
     "execution_count": 46,
     "metadata": {},
     "output_type": "execute_result"
    }
   ],
   "source": [
    "soup.prettify()\n",
    "\n",
    "post_titles = soup.find_all('a', {'class' : 'title'})\n",
    "post_titles[0]"
   ]
  },
  {
   "cell_type": "code",
   "execution_count": 47,
   "metadata": {},
   "outputs": [
    {
     "data": {
      "text/plain": [
       "'The r/StockMarket Portfolio Challenge'"
      ]
     },
     "execution_count": 47,
     "metadata": {},
     "output_type": "execute_result"
    }
   ],
   "source": [
    "str_ = post_titles[1]\n",
    "str_.text"
   ]
  },
  {
   "cell_type": "code",
   "execution_count": 48,
   "metadata": {},
   "outputs": [
    {
     "data": {
      "text/plain": [
       "['Facebook: Buy, Sell, or hold?']"
      ]
     },
     "execution_count": 48,
     "metadata": {},
     "output_type": "execute_result"
    }
   ],
   "source": [
    "fb = [el.text for el in post_titles if 'Facebook' in el.text]\n",
    "fb"
   ]
  },
  {
   "cell_type": "code",
   "execution_count": 49,
   "metadata": {},
   "outputs": [
    {
     "data": {
      "text/plain": [
       "['To all the new arrivals here, welcome to r/stockmarket!',\n",
       " 'The r/StockMarket Portfolio Challenge',\n",
       " 'Most Anticipated Earnings Releases for the week beginning March 26th, 2018',\n",
       " '$AMZN in @ 1521 a piece',\n",
       " 'Networking for Investors',\n",
       " 'MCX:GMKN when that Ice melts even more money',\n",
       " 'Facebook: Buy, Sell, or hold?',\n",
       " 'What online stock broker for one trade?',\n",
       " 'Should i buy FB?',\n",
       " '2 Min Video: Learn Reliable Bullish Candlestick Patterns',\n",
       " 'Is it a good idea to pull out of the market now and buy back in later?',\n",
       " 'Plunge Protection Team',\n",
       " 'Markets off to another lower open; China tariff announcement due out today.',\n",
       " 'This was written four days ago by a guy who shorted Apple from $700 to $400 in 2012',\n",
       " 'I made a video about introducing the stock market to teens. How did I do?',\n",
       " \"What's up with MU?\",\n",
       " 'Thoughts on GERN?',\n",
       " 'Dropbox prices IPO at $21 a share',\n",
       " 'MVIS - opinions on keeping it?',\n",
       " 'China Plans Tariffs on $3B U.S. Imports',\n",
       " 'Most exciting penny stock for huge return in 2018',\n",
       " 'Things you wish you knew about investing when you were younger?',\n",
       " 'Effectively Using RSI Indicator Explained on Live Candlestick Chart',\n",
       " 'Where will the Dow close at today? (Friday 3/23)',\n",
       " 'Is MAT going bankrupt?',\n",
       " 'Thoughts on Comcast?',\n",
       " 'Potential blow ups and long term investment suggestions?']"
      ]
     },
     "execution_count": 49,
     "metadata": {},
     "output_type": "execute_result"
    }
   ],
   "source": [
    "titles = [el.text for el in post_titles]\n",
    "titles"
   ]
  },
  {
   "cell_type": "code",
   "execution_count": 39,
   "metadata": {},
   "outputs": [
    {
     "data": {
      "text/plain": [
       "[['To',\n",
       "  'all',\n",
       "  'the',\n",
       "  'new',\n",
       "  'arrivals',\n",
       "  'here,',\n",
       "  'welcome',\n",
       "  'to',\n",
       "  'r/stockmarket!'],\n",
       " ['The', 'r/StockMarket', 'Portfolio', 'Challenge'],\n",
       " ['Most',\n",
       "  'Anticipated',\n",
       "  'Earnings',\n",
       "  'Releases',\n",
       "  'for',\n",
       "  'the',\n",
       "  'week',\n",
       "  'beginning',\n",
       "  'March',\n",
       "  '26th,',\n",
       "  '2018'],\n",
       " ['$AMZN', 'in', '@', '1521', 'a', 'piece'],\n",
       " ['Networking', 'for', 'Investors'],\n",
       " ['MCX:GMKN', 'when', 'that', 'Ice', 'melts', 'even', 'more', 'money'],\n",
       " ['Facebook:', 'Buy,', 'Sell,', 'or', 'hold?'],\n",
       " ['What', 'online', 'stock', 'broker', 'for', 'one', 'trade?'],\n",
       " ['Should', 'i', 'buy', 'FB?'],\n",
       " ['2',\n",
       "  'Min',\n",
       "  'Video:',\n",
       "  'Learn',\n",
       "  'Reliable',\n",
       "  'Bullish',\n",
       "  'Candlestick',\n",
       "  'Patterns'],\n",
       " ['Is',\n",
       "  'it',\n",
       "  'a',\n",
       "  'good',\n",
       "  'idea',\n",
       "  'to',\n",
       "  'pull',\n",
       "  'out',\n",
       "  'of',\n",
       "  'the',\n",
       "  'market',\n",
       "  'now',\n",
       "  'and',\n",
       "  'buy',\n",
       "  'back',\n",
       "  'in',\n",
       "  'later?'],\n",
       " ['Plunge', 'Protection', 'Team'],\n",
       " ['Markets',\n",
       "  'off',\n",
       "  'to',\n",
       "  'another',\n",
       "  'lower',\n",
       "  'open;',\n",
       "  'China',\n",
       "  'tariff',\n",
       "  'announcement',\n",
       "  'due',\n",
       "  'out',\n",
       "  'today.'],\n",
       " ['This',\n",
       "  'was',\n",
       "  'written',\n",
       "  'four',\n",
       "  'days',\n",
       "  'ago',\n",
       "  'by',\n",
       "  'a',\n",
       "  'guy',\n",
       "  'who',\n",
       "  'shorted',\n",
       "  'Apple',\n",
       "  'from',\n",
       "  '$700',\n",
       "  'to',\n",
       "  '$400',\n",
       "  'in',\n",
       "  '2012'],\n",
       " ['I',\n",
       "  'made',\n",
       "  'a',\n",
       "  'video',\n",
       "  'about',\n",
       "  'introducing',\n",
       "  'the',\n",
       "  'stock',\n",
       "  'market',\n",
       "  'to',\n",
       "  'teens.',\n",
       "  'How',\n",
       "  'did',\n",
       "  'I',\n",
       "  'do?'],\n",
       " [\"What's\", 'up', 'with', 'MU?'],\n",
       " ['Thoughts', 'on', 'GERN?'],\n",
       " ['Dropbox', 'prices', 'IPO', 'at', '$21', 'a', 'share'],\n",
       " ['MVIS', '-', 'opinions', 'on', 'keeping', 'it?'],\n",
       " ['China', 'Plans', 'Tariffs', 'on', '$3B', 'U.S.', 'Imports'],\n",
       " ['Most', 'exciting', 'penny', 'stock', 'for', 'huge', 'return', 'in', '2018'],\n",
       " ['Things',\n",
       "  'you',\n",
       "  'wish',\n",
       "  'you',\n",
       "  'knew',\n",
       "  'about',\n",
       "  'investing',\n",
       "  'when',\n",
       "  'you',\n",
       "  'were',\n",
       "  'younger?'],\n",
       " ['Effectively',\n",
       "  'Using',\n",
       "  'RSI',\n",
       "  'Indicator',\n",
       "  'Explained',\n",
       "  'on',\n",
       "  'Live',\n",
       "  'Candlestick',\n",
       "  'Chart'],\n",
       " ['Where', 'will', 'the', 'Dow', 'close', 'at', 'today?', '(Friday', '3/23)'],\n",
       " ['Is', 'MAT', 'going', 'bankrupt?'],\n",
       " ['Thoughts', 'on', 'Comcast?'],\n",
       " ['Potential',\n",
       "  'blow',\n",
       "  'ups',\n",
       "  'and',\n",
       "  'long',\n",
       "  'term',\n",
       "  'investment',\n",
       "  'suggestions?']]"
      ]
     },
     "execution_count": 39,
     "metadata": {},
     "output_type": "execute_result"
    }
   ],
   "source": [
    "split = [el.split(' ') for el in titles]\n",
    "split"
   ]
  },
  {
   "cell_type": "code",
   "execution_count": 72,
   "metadata": {},
   "outputs": [
    {
     "data": {
      "text/plain": [
       "<itertools.chain at 0x7f7d057b7dd8>"
      ]
     },
     "execution_count": 72,
     "metadata": {},
     "output_type": "execute_result"
    }
   ],
   "source": [
    "joined = itertools.chain.from_iterable(split)\n",
    "joined"
   ]
  },
  {
   "cell_type": "code",
   "execution_count": 73,
   "metadata": {
    "scrolled": false
   },
   "outputs": [
    {
     "data": {
      "text/plain": [
       "Counter({'$21': 1,\n",
       "         '$3B': 1,\n",
       "         '$400': 1,\n",
       "         '$700': 1,\n",
       "         '$AMZN': 1,\n",
       "         '(Friday': 1,\n",
       "         '-': 1,\n",
       "         '1521': 1,\n",
       "         '2': 1,\n",
       "         '2012': 1,\n",
       "         '2018': 2,\n",
       "         '26th,': 1,\n",
       "         '3/23)': 1,\n",
       "         '@': 1,\n",
       "         'Anticipated': 1,\n",
       "         'Apple': 1,\n",
       "         'Bullish': 1,\n",
       "         'Buy,': 1,\n",
       "         'Candlestick': 2,\n",
       "         'Challenge': 1,\n",
       "         'Chart': 1,\n",
       "         'China': 2,\n",
       "         'Comcast?': 1,\n",
       "         'Dow': 1,\n",
       "         'Dropbox': 1,\n",
       "         'Earnings': 1,\n",
       "         'Effectively': 1,\n",
       "         'Explained': 1,\n",
       "         'FB?': 1,\n",
       "         'Facebook:': 1,\n",
       "         'GERN?': 1,\n",
       "         'How': 1,\n",
       "         'I': 2,\n",
       "         'IPO': 1,\n",
       "         'Ice': 1,\n",
       "         'Imports': 1,\n",
       "         'Indicator': 1,\n",
       "         'Investors': 1,\n",
       "         'Is': 2,\n",
       "         'Learn': 1,\n",
       "         'Live': 1,\n",
       "         'MAT': 1,\n",
       "         'MCX:GMKN': 1,\n",
       "         'MU?': 1,\n",
       "         'MVIS': 1,\n",
       "         'March': 1,\n",
       "         'Markets': 1,\n",
       "         'Min': 1,\n",
       "         'Most': 2,\n",
       "         'Networking': 1,\n",
       "         'Patterns': 1,\n",
       "         'Plans': 1,\n",
       "         'Plunge': 1,\n",
       "         'Portfolio': 1,\n",
       "         'Potential': 1,\n",
       "         'Protection': 1,\n",
       "         'RSI': 1,\n",
       "         'Releases': 1,\n",
       "         'Reliable': 1,\n",
       "         'Sell,': 1,\n",
       "         'Should': 1,\n",
       "         'Tariffs': 1,\n",
       "         'Team': 1,\n",
       "         'The': 1,\n",
       "         'Things': 1,\n",
       "         'This': 1,\n",
       "         'Thoughts': 2,\n",
       "         'To': 1,\n",
       "         'U.S.': 1,\n",
       "         'Using': 1,\n",
       "         'Video:': 1,\n",
       "         'What': 1,\n",
       "         \"What's\": 1,\n",
       "         'Where': 1,\n",
       "         'a': 5,\n",
       "         'about': 2,\n",
       "         'ago': 1,\n",
       "         'all': 1,\n",
       "         'and': 2,\n",
       "         'announcement': 1,\n",
       "         'another': 1,\n",
       "         'arrivals': 1,\n",
       "         'at': 2,\n",
       "         'back': 1,\n",
       "         'bankrupt?': 1,\n",
       "         'beginning': 1,\n",
       "         'blow': 1,\n",
       "         'broker': 1,\n",
       "         'buy': 2,\n",
       "         'by': 1,\n",
       "         'close': 1,\n",
       "         'days': 1,\n",
       "         'did': 1,\n",
       "         'do?': 1,\n",
       "         'due': 1,\n",
       "         'even': 1,\n",
       "         'exciting': 1,\n",
       "         'for': 4,\n",
       "         'four': 1,\n",
       "         'from': 1,\n",
       "         'going': 1,\n",
       "         'good': 1,\n",
       "         'guy': 1,\n",
       "         'here,': 1,\n",
       "         'hold?': 1,\n",
       "         'huge': 1,\n",
       "         'i': 1,\n",
       "         'idea': 1,\n",
       "         'in': 4,\n",
       "         'introducing': 1,\n",
       "         'investing': 1,\n",
       "         'investment': 1,\n",
       "         'it': 1,\n",
       "         'it?': 1,\n",
       "         'keeping': 1,\n",
       "         'knew': 1,\n",
       "         'later?': 1,\n",
       "         'long': 1,\n",
       "         'lower': 1,\n",
       "         'made': 1,\n",
       "         'market': 2,\n",
       "         'melts': 1,\n",
       "         'money': 1,\n",
       "         'more': 1,\n",
       "         'new': 1,\n",
       "         'now': 1,\n",
       "         'of': 1,\n",
       "         'off': 1,\n",
       "         'on': 5,\n",
       "         'one': 1,\n",
       "         'online': 1,\n",
       "         'open;': 1,\n",
       "         'opinions': 1,\n",
       "         'or': 1,\n",
       "         'out': 2,\n",
       "         'penny': 1,\n",
       "         'piece': 1,\n",
       "         'prices': 1,\n",
       "         'pull': 1,\n",
       "         'r/StockMarket': 1,\n",
       "         'r/stockmarket!': 1,\n",
       "         'return': 1,\n",
       "         'share': 1,\n",
       "         'shorted': 1,\n",
       "         'stock': 3,\n",
       "         'suggestions?': 1,\n",
       "         'tariff': 1,\n",
       "         'teens.': 1,\n",
       "         'term': 1,\n",
       "         'that': 1,\n",
       "         'the': 5,\n",
       "         'to': 5,\n",
       "         'today.': 1,\n",
       "         'today?': 1,\n",
       "         'trade?': 1,\n",
       "         'up': 1,\n",
       "         'ups': 1,\n",
       "         'video': 1,\n",
       "         'was': 1,\n",
       "         'week': 1,\n",
       "         'welcome': 1,\n",
       "         'were': 1,\n",
       "         'when': 2,\n",
       "         'who': 1,\n",
       "         'will': 1,\n",
       "         'wish': 1,\n",
       "         'with': 1,\n",
       "         'written': 1,\n",
       "         'you': 3,\n",
       "         'younger?': 1})"
      ]
     },
     "execution_count": 73,
     "metadata": {},
     "output_type": "execute_result"
    }
   ],
   "source": [
    "counts = Counter(joined)\n",
    "counts"
   ]
  },
  {
   "cell_type": "code",
   "execution_count": 75,
   "metadata": {},
   "outputs": [
    {
     "data": {
      "text/plain": [
       "Counter({'$21': 1,\n",
       "         '$3B': 1,\n",
       "         '$400': 1,\n",
       "         '$700': 1,\n",
       "         '$AMZN': 1,\n",
       "         '(Friday': 1,\n",
       "         '-': 1,\n",
       "         '1521': 1,\n",
       "         '2': 1,\n",
       "         '2012': 1,\n",
       "         '2018': 2,\n",
       "         '26th,': 1,\n",
       "         '3/23)': 1,\n",
       "         '@': 1,\n",
       "         'Anticipated': 1,\n",
       "         'Apple': 1,\n",
       "         'Bullish': 1,\n",
       "         'Buy,': 1,\n",
       "         'Candlestick': 2,\n",
       "         'Challenge': 1,\n",
       "         'Chart': 1,\n",
       "         'China': 2,\n",
       "         'Comcast?': 1,\n",
       "         'Dow': 1,\n",
       "         'Dropbox': 1,\n",
       "         'Earnings': 1,\n",
       "         'Effectively': 1,\n",
       "         'Explained': 1,\n",
       "         'FB?': 1,\n",
       "         'Facebook:': 1,\n",
       "         'GERN?': 1,\n",
       "         'How': 1,\n",
       "         'I': 2,\n",
       "         'IPO': 1,\n",
       "         'Ice': 1,\n",
       "         'Imports': 1,\n",
       "         'Indicator': 1,\n",
       "         'Investors': 1,\n",
       "         'Is': 2,\n",
       "         'Learn': 1,\n",
       "         'Live': 1,\n",
       "         'MAT': 1,\n",
       "         'MCX:GMKN': 1,\n",
       "         'MU?': 1,\n",
       "         'MVIS': 1,\n",
       "         'March': 1,\n",
       "         'Markets': 1,\n",
       "         'Min': 1,\n",
       "         'Most': 2,\n",
       "         'Networking': 1,\n",
       "         'Patterns': 1,\n",
       "         'Plans': 1,\n",
       "         'Plunge': 1,\n",
       "         'Portfolio': 1,\n",
       "         'Potential': 1,\n",
       "         'Protection': 1,\n",
       "         'RSI': 1,\n",
       "         'Releases': 1,\n",
       "         'Reliable': 1,\n",
       "         'Sell,': 1,\n",
       "         'Should': 1,\n",
       "         'Tariffs': 1,\n",
       "         'Team': 1,\n",
       "         'The': 1,\n",
       "         'Things': 1,\n",
       "         'This': 1,\n",
       "         'Thoughts': 2,\n",
       "         'To': 1,\n",
       "         'U.S.': 1,\n",
       "         'Using': 1,\n",
       "         'Video:': 1,\n",
       "         'What': 1,\n",
       "         \"What's\": 1,\n",
       "         'Where': 1,\n",
       "         'a': 5,\n",
       "         'about': 2,\n",
       "         'ago': 1,\n",
       "         'all': 1,\n",
       "         'and': 2,\n",
       "         'announcement': 1,\n",
       "         'another': 1,\n",
       "         'arrivals': 1,\n",
       "         'at': 2,\n",
       "         'back': 1,\n",
       "         'bankrupt?': 1,\n",
       "         'beginning': 1,\n",
       "         'blow': 1,\n",
       "         'broker': 1,\n",
       "         'buy': 2,\n",
       "         'by': 1,\n",
       "         'close': 1,\n",
       "         'days': 1,\n",
       "         'did': 1,\n",
       "         'do?': 1,\n",
       "         'due': 1,\n",
       "         'even': 1,\n",
       "         'exciting': 1,\n",
       "         'for': 4,\n",
       "         'four': 1,\n",
       "         'from': 1,\n",
       "         'going': 1,\n",
       "         'good': 1,\n",
       "         'guy': 1,\n",
       "         'here,': 1,\n",
       "         'hold?': 1,\n",
       "         'huge': 1,\n",
       "         'i': 1,\n",
       "         'idea': 1,\n",
       "         'in': 4,\n",
       "         'introducing': 1,\n",
       "         'investing': 1,\n",
       "         'investment': 1,\n",
       "         'it': 1,\n",
       "         'it?': 1,\n",
       "         'keeping': 1,\n",
       "         'knew': 1,\n",
       "         'later?': 1,\n",
       "         'long': 1,\n",
       "         'lower': 1,\n",
       "         'made': 1,\n",
       "         'market': 2,\n",
       "         'melts': 1,\n",
       "         'money': 1,\n",
       "         'more': 1,\n",
       "         'new': 1,\n",
       "         'now': 1,\n",
       "         'of': 1,\n",
       "         'off': 1,\n",
       "         'on': 5,\n",
       "         'one': 1,\n",
       "         'online': 1,\n",
       "         'open;': 1,\n",
       "         'opinions': 1,\n",
       "         'or': 1,\n",
       "         'out': 2,\n",
       "         'penny': 1,\n",
       "         'piece': 1,\n",
       "         'prices': 1,\n",
       "         'pull': 1,\n",
       "         'r/StockMarket': 1,\n",
       "         'r/stockmarket!': 1,\n",
       "         'return': 1,\n",
       "         'share': 1,\n",
       "         'shorted': 1,\n",
       "         'stock': 3,\n",
       "         'suggestions?': 1,\n",
       "         'tariff': 1,\n",
       "         'teens.': 1,\n",
       "         'term': 1,\n",
       "         'that': 1,\n",
       "         'the': 5,\n",
       "         'to': 5,\n",
       "         'today.': 1,\n",
       "         'today?': 1,\n",
       "         'trade?': 1,\n",
       "         'up': 1,\n",
       "         'ups': 1,\n",
       "         'video': 1,\n",
       "         'was': 1,\n",
       "         'week': 1,\n",
       "         'welcome': 1,\n",
       "         'were': 1,\n",
       "         'when': 2,\n",
       "         'who': 1,\n",
       "         'will': 1,\n",
       "         'wish': 1,\n",
       "         'with': 1,\n",
       "         'written': 1,\n",
       "         'you': 3,\n",
       "         'younger?': 1})"
      ]
     },
     "execution_count": 75,
     "metadata": {},
     "output_type": "execute_result"
    }
   ],
   "source": [
    "c = Counter()\n",
    "c + counts"
   ]
  },
  {
   "cell_type": "code",
   "execution_count": null,
   "metadata": {
    "collapsed": true
   },
   "outputs": [],
   "source": []
  }
 ],
 "metadata": {
  "kernelspec": {
   "display_name": "Python 3",
   "language": "python",
   "name": "python3"
  },
  "language_info": {
   "codemirror_mode": {
    "name": "ipython",
    "version": 3
   },
   "file_extension": ".py",
   "mimetype": "text/x-python",
   "name": "python",
   "nbconvert_exporter": "python",
   "pygments_lexer": "ipython3",
   "version": "3.5.4"
  }
 },
 "nbformat": 4,
 "nbformat_minor": 2
}
